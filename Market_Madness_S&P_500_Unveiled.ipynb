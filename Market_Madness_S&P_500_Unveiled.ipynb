{
  "nbformat": 4,
  "nbformat_minor": 0,
  "metadata": {
    "colab": {
      "provenance": [],
      "include_colab_link": true
    },
    "kernelspec": {
      "name": "python3",
      "display_name": "Python 3"
    },
    "language_info": {
      "name": "python"
    }
  },
  "cells": [
    {
      "cell_type": "markdown",
      "metadata": {
        "id": "view-in-github",
        "colab_type": "text"
      },
      "source": [
        "<a href=\"https://colab.research.google.com/github/veerlaissac/veerlaissac/blob/main/Market_Madness_S%26P_500_Unveiled.ipynb\" target=\"_parent\"><img src=\"https://colab.research.google.com/assets/colab-badge.svg\" alt=\"Open In Colab\"/></a>"
      ]
    },
    {
      "cell_type": "markdown",
      "source": [
        "# Market Madness: S&P 500 Unveiled\n",
        "##### Team Members:\n",
        "Jayvart Sharma : 018235633  \n",
        "Issac Veerla : 018199350\n",
        "\n",
        "\n",
        "\n",
        "\n",
        "**Project Overview:**\n",
        "Our project focuses on analyzing the S&P 500, specifically targeting two core topics: Hypothesis Testing and Normal Distribution Standardization. We aim to leverage these statistical methods to understand the factors influencing the variability and trends within the S&P 500 index.\n",
        "\n",
        "Our data set: https://raw.githubusercontent.com/csbfx/cs22a/main/sp500_companies.csv\n"
      ],
      "metadata": {
        "id": "N1-_70TAzzu5"
      }
    },
    {
      "cell_type": "markdown",
      "source": [
        "**TOPIC 1 FOR ANALYSIS - Hypothesis Testing**\n",
        "\n",
        "In this project, we aim to determine whether there is a measurable difference in volatility between large-cap and mid-cap stocks within the S&P 500. Volatility is quantified using the standard deviation of stock returns, represented in the dataset by the Weight column. To answer this, we conducted a hypothesis test. The Null Hypothesis (H₀) states that there is no significant difference in volatility between large-cap and mid-cap stocks, while the Alternative Hypothesis (Hₐ) posits that a significant difference exists.\n",
        "\n",
        "We classified companies based on their market capitalization into Large-Cap (market cap > $10 billion) and Mid-Cap ($2 billion ≤ market cap ≤ $10 billion). Using the means and standard deviations of the two groups, we performed a Z-test to compare their volatilities. The Z-score was calculated manually to assess whether the difference in means was statistically significant, using a 5% significance level (\n",
        "𝛼\n",
        "=\n",
        "0.05\n",
        "α=0.05).\n",
        "\n",
        "To visualize the results, histograms were plotted to show the volatility distributions for both groups. This allowed us to see potential differences graphically. Based on the Z-test results, we either rejected or failed to reject the null hypothesis, providing insights into whether large-cap stocks exhibit more stability compared to mid-cap stocks. This approach combines statistical rigor with data visualization for clarity and impact."
      ],
      "metadata": {
        "id": "Oj5GF8_n0yRg"
      }
    },
    {
      "cell_type": "markdown",
      "source": [
        "**Question 1**   \n",
        "Is there a measurable difference in volatility between large-cap and mid-cap stocks?\n"
      ],
      "metadata": {
        "id": "N0ihAal1EIk8"
      }
    },
    {
      "cell_type": "markdown",
      "source": [
        "1. Importing Libraries"
      ],
      "metadata": {
        "id": "w_NCXBPTv2aZ"
      }
    },
    {
      "cell_type": "code",
      "execution_count": null,
      "metadata": {
        "id": "53k9VIK5vw7-"
      },
      "outputs": [],
      "source": [
        "import pandas as pd\n",
        "import numpy as np\n",
        "import matplotlib.pyplot as plt\n",
        "import seaborn as sns"
      ]
    },
    {
      "cell_type": "markdown",
      "source": [
        "2. Load the Dataset\n"
      ],
      "metadata": {
        "id": "kS9ER-IvwAyr"
      }
    },
    {
      "cell_type": "code",
      "source": [
        "url = \"https://raw.githubusercontent.com/csbfx/cs22a/main/sp500_companies.csv\"\n",
        "data = pd.read_csv(url)\n",
        "data"
      ],
      "metadata": {
        "id": "dQPA4swWv4sT",
        "colab": {
          "base_uri": "https://localhost:8080/",
          "height": 773
        },
        "outputId": "aeba9b4d-26ff-44cf-c71b-d6972b122123"
      },
      "execution_count": null,
      "outputs": [
        {
          "output_type": "execute_result",
          "data": {
            "text/plain": [
              "    Exchange Symbol                Shortname                 Longname  \\\n",
              "0        NMS   AAPL               Apple Inc.               Apple Inc.   \n",
              "1        NMS   MSFT    Microsoft Corporation    Microsoft Corporation   \n",
              "2        NMS   GOOG            Alphabet Inc.            Alphabet Inc.   \n",
              "3        NMS  GOOGL            Alphabet Inc.            Alphabet Inc.   \n",
              "4        NMS   AMZN         Amazon.com, Inc.         Amazon.com, Inc.   \n",
              "..       ...    ...                      ...                      ...   \n",
              "489      NYQ    OGN            Organon & Co.            Organon & Co.   \n",
              "490      NYQ    MHK  Mohawk Industries, Inc.  Mohawk Industries, Inc.   \n",
              "491      NMS    NWL       Newell Brands Inc.       Newell Brands Inc.   \n",
              "492      NYQ    ALK   Alaska Air Group, Inc.   Alaska Air Group, Inc.   \n",
              "493      NYQ    VNO     Vornado Realty Trust     Vornado Realty Trust   \n",
              "\n",
              "                     Sector                            Industry  Currentprice  \\\n",
              "0                Technology                Consumer Electronics        155.74   \n",
              "1                Technology             Software—Infrastructure        235.87   \n",
              "2    Communication Services      Internet Content & Information         96.58   \n",
              "3    Communication Services      Internet Content & Information         96.29   \n",
              "4         Consumer Cyclical                     Internet Retail        103.41   \n",
              "..                      ...                                 ...           ...   \n",
              "489              Healthcare          Drug Manufacturers—General         26.18   \n",
              "490       Consumer Cyclical  Furnishings, Fixtures & Appliances         96.72   \n",
              "491      Consumer Defensive       Household & Personal Products         15.05   \n",
              "492             Industrials                            Airlines         44.43   \n",
              "493             Real Estate                         REIT—Office         23.80   \n",
              "\n",
              "         Marketcap        Ebitda  Revenuegrowth           City State  \\\n",
              "0    2502866501632  1.305410e+11          0.081      Cupertino    CA   \n",
              "1    1770907107328  9.798300e+10          0.124        Redmond    WA   \n",
              "2    1248045432832  9.373300e+10          0.061  Mountain View    CA   \n",
              "3    1248043597824  9.373300e+10          0.061  Mountain View    CA   \n",
              "4    1054957895680  5.154900e+10          0.147        Seattle    WA   \n",
              "..             ...           ...            ...            ...   ...   \n",
              "489     6637939200  2.100000e+09          0.041    Jersey City    NJ   \n",
              "490     6551077888  1.888004e+09          0.067        Calhoun    GA   \n",
              "491     6402270208  1.390000e+09         -0.065        Atlanta    GA   \n",
              "492     5635234816  1.073000e+09          0.448        Seattle    WA   \n",
              "493     4562007552  8.103430e+08          0.163       New York    NY   \n",
              "\n",
              "           Country  Fulltimeemployees  \\\n",
              "0    United States           164000.0   \n",
              "1    United States           221000.0   \n",
              "2    United States           186779.0   \n",
              "3    United States           186779.0   \n",
              "4    United States          1544000.0   \n",
              "..             ...                ...   \n",
              "489  United States             9300.0   \n",
              "490  United States            43000.0   \n",
              "491  United States            32000.0   \n",
              "492  United States            22354.0   \n",
              "493  United States             3224.0   \n",
              "\n",
              "                                   Longbusinesssummary    Weight  \n",
              "0    Apple Inc. designs, manufactures, and markets ...  0.072117  \n",
              "1    Microsoft Corporation develops, licenses, and ...  0.051026  \n",
              "2    Alphabet Inc. provides various products and pl...  0.035961  \n",
              "3    Alphabet Inc. provides various products and pl...  0.035961  \n",
              "4    Amazon.com, Inc. engages in the retail sale of...  0.030397  \n",
              "..                                                 ...       ...  \n",
              "489  Organon & Co., a health care company, develops...  0.000191  \n",
              "490  Mohawk Industries, Inc. designs, manufactures,...  0.000189  \n",
              "491  Newell Brands Inc. designs, manufactures, sour...  0.000184  \n",
              "492  Alaska Air Group, Inc., through its subsidiari...  0.000162  \n",
              "493  Vornado's portfolio is concentrated in the nat...  0.000131  \n",
              "\n",
              "[494 rows x 16 columns]"
            ],
            "text/html": [
              "\n",
              "  <div id=\"df-020b87f1-14d0-4a34-9af4-ba4f03d08dc0\" class=\"colab-df-container\">\n",
              "    <div>\n",
              "<style scoped>\n",
              "    .dataframe tbody tr th:only-of-type {\n",
              "        vertical-align: middle;\n",
              "    }\n",
              "\n",
              "    .dataframe tbody tr th {\n",
              "        vertical-align: top;\n",
              "    }\n",
              "\n",
              "    .dataframe thead th {\n",
              "        text-align: right;\n",
              "    }\n",
              "</style>\n",
              "<table border=\"1\" class=\"dataframe\">\n",
              "  <thead>\n",
              "    <tr style=\"text-align: right;\">\n",
              "      <th></th>\n",
              "      <th>Exchange</th>\n",
              "      <th>Symbol</th>\n",
              "      <th>Shortname</th>\n",
              "      <th>Longname</th>\n",
              "      <th>Sector</th>\n",
              "      <th>Industry</th>\n",
              "      <th>Currentprice</th>\n",
              "      <th>Marketcap</th>\n",
              "      <th>Ebitda</th>\n",
              "      <th>Revenuegrowth</th>\n",
              "      <th>City</th>\n",
              "      <th>State</th>\n",
              "      <th>Country</th>\n",
              "      <th>Fulltimeemployees</th>\n",
              "      <th>Longbusinesssummary</th>\n",
              "      <th>Weight</th>\n",
              "    </tr>\n",
              "  </thead>\n",
              "  <tbody>\n",
              "    <tr>\n",
              "      <th>0</th>\n",
              "      <td>NMS</td>\n",
              "      <td>AAPL</td>\n",
              "      <td>Apple Inc.</td>\n",
              "      <td>Apple Inc.</td>\n",
              "      <td>Technology</td>\n",
              "      <td>Consumer Electronics</td>\n",
              "      <td>155.74</td>\n",
              "      <td>2502866501632</td>\n",
              "      <td>1.305410e+11</td>\n",
              "      <td>0.081</td>\n",
              "      <td>Cupertino</td>\n",
              "      <td>CA</td>\n",
              "      <td>United States</td>\n",
              "      <td>164000.0</td>\n",
              "      <td>Apple Inc. designs, manufactures, and markets ...</td>\n",
              "      <td>0.072117</td>\n",
              "    </tr>\n",
              "    <tr>\n",
              "      <th>1</th>\n",
              "      <td>NMS</td>\n",
              "      <td>MSFT</td>\n",
              "      <td>Microsoft Corporation</td>\n",
              "      <td>Microsoft Corporation</td>\n",
              "      <td>Technology</td>\n",
              "      <td>Software—Infrastructure</td>\n",
              "      <td>235.87</td>\n",
              "      <td>1770907107328</td>\n",
              "      <td>9.798300e+10</td>\n",
              "      <td>0.124</td>\n",
              "      <td>Redmond</td>\n",
              "      <td>WA</td>\n",
              "      <td>United States</td>\n",
              "      <td>221000.0</td>\n",
              "      <td>Microsoft Corporation develops, licenses, and ...</td>\n",
              "      <td>0.051026</td>\n",
              "    </tr>\n",
              "    <tr>\n",
              "      <th>2</th>\n",
              "      <td>NMS</td>\n",
              "      <td>GOOG</td>\n",
              "      <td>Alphabet Inc.</td>\n",
              "      <td>Alphabet Inc.</td>\n",
              "      <td>Communication Services</td>\n",
              "      <td>Internet Content &amp; Information</td>\n",
              "      <td>96.58</td>\n",
              "      <td>1248045432832</td>\n",
              "      <td>9.373300e+10</td>\n",
              "      <td>0.061</td>\n",
              "      <td>Mountain View</td>\n",
              "      <td>CA</td>\n",
              "      <td>United States</td>\n",
              "      <td>186779.0</td>\n",
              "      <td>Alphabet Inc. provides various products and pl...</td>\n",
              "      <td>0.035961</td>\n",
              "    </tr>\n",
              "    <tr>\n",
              "      <th>3</th>\n",
              "      <td>NMS</td>\n",
              "      <td>GOOGL</td>\n",
              "      <td>Alphabet Inc.</td>\n",
              "      <td>Alphabet Inc.</td>\n",
              "      <td>Communication Services</td>\n",
              "      <td>Internet Content &amp; Information</td>\n",
              "      <td>96.29</td>\n",
              "      <td>1248043597824</td>\n",
              "      <td>9.373300e+10</td>\n",
              "      <td>0.061</td>\n",
              "      <td>Mountain View</td>\n",
              "      <td>CA</td>\n",
              "      <td>United States</td>\n",
              "      <td>186779.0</td>\n",
              "      <td>Alphabet Inc. provides various products and pl...</td>\n",
              "      <td>0.035961</td>\n",
              "    </tr>\n",
              "    <tr>\n",
              "      <th>4</th>\n",
              "      <td>NMS</td>\n",
              "      <td>AMZN</td>\n",
              "      <td>Amazon.com, Inc.</td>\n",
              "      <td>Amazon.com, Inc.</td>\n",
              "      <td>Consumer Cyclical</td>\n",
              "      <td>Internet Retail</td>\n",
              "      <td>103.41</td>\n",
              "      <td>1054957895680</td>\n",
              "      <td>5.154900e+10</td>\n",
              "      <td>0.147</td>\n",
              "      <td>Seattle</td>\n",
              "      <td>WA</td>\n",
              "      <td>United States</td>\n",
              "      <td>1544000.0</td>\n",
              "      <td>Amazon.com, Inc. engages in the retail sale of...</td>\n",
              "      <td>0.030397</td>\n",
              "    </tr>\n",
              "    <tr>\n",
              "      <th>...</th>\n",
              "      <td>...</td>\n",
              "      <td>...</td>\n",
              "      <td>...</td>\n",
              "      <td>...</td>\n",
              "      <td>...</td>\n",
              "      <td>...</td>\n",
              "      <td>...</td>\n",
              "      <td>...</td>\n",
              "      <td>...</td>\n",
              "      <td>...</td>\n",
              "      <td>...</td>\n",
              "      <td>...</td>\n",
              "      <td>...</td>\n",
              "      <td>...</td>\n",
              "      <td>...</td>\n",
              "      <td>...</td>\n",
              "    </tr>\n",
              "    <tr>\n",
              "      <th>489</th>\n",
              "      <td>NYQ</td>\n",
              "      <td>OGN</td>\n",
              "      <td>Organon &amp; Co.</td>\n",
              "      <td>Organon &amp; Co.</td>\n",
              "      <td>Healthcare</td>\n",
              "      <td>Drug Manufacturers—General</td>\n",
              "      <td>26.18</td>\n",
              "      <td>6637939200</td>\n",
              "      <td>2.100000e+09</td>\n",
              "      <td>0.041</td>\n",
              "      <td>Jersey City</td>\n",
              "      <td>NJ</td>\n",
              "      <td>United States</td>\n",
              "      <td>9300.0</td>\n",
              "      <td>Organon &amp; Co., a health care company, develops...</td>\n",
              "      <td>0.000191</td>\n",
              "    </tr>\n",
              "    <tr>\n",
              "      <th>490</th>\n",
              "      <td>NYQ</td>\n",
              "      <td>MHK</td>\n",
              "      <td>Mohawk Industries, Inc.</td>\n",
              "      <td>Mohawk Industries, Inc.</td>\n",
              "      <td>Consumer Cyclical</td>\n",
              "      <td>Furnishings, Fixtures &amp; Appliances</td>\n",
              "      <td>96.72</td>\n",
              "      <td>6551077888</td>\n",
              "      <td>1.888004e+09</td>\n",
              "      <td>0.067</td>\n",
              "      <td>Calhoun</td>\n",
              "      <td>GA</td>\n",
              "      <td>United States</td>\n",
              "      <td>43000.0</td>\n",
              "      <td>Mohawk Industries, Inc. designs, manufactures,...</td>\n",
              "      <td>0.000189</td>\n",
              "    </tr>\n",
              "    <tr>\n",
              "      <th>491</th>\n",
              "      <td>NMS</td>\n",
              "      <td>NWL</td>\n",
              "      <td>Newell Brands Inc.</td>\n",
              "      <td>Newell Brands Inc.</td>\n",
              "      <td>Consumer Defensive</td>\n",
              "      <td>Household &amp; Personal Products</td>\n",
              "      <td>15.05</td>\n",
              "      <td>6402270208</td>\n",
              "      <td>1.390000e+09</td>\n",
              "      <td>-0.065</td>\n",
              "      <td>Atlanta</td>\n",
              "      <td>GA</td>\n",
              "      <td>United States</td>\n",
              "      <td>32000.0</td>\n",
              "      <td>Newell Brands Inc. designs, manufactures, sour...</td>\n",
              "      <td>0.000184</td>\n",
              "    </tr>\n",
              "    <tr>\n",
              "      <th>492</th>\n",
              "      <td>NYQ</td>\n",
              "      <td>ALK</td>\n",
              "      <td>Alaska Air Group, Inc.</td>\n",
              "      <td>Alaska Air Group, Inc.</td>\n",
              "      <td>Industrials</td>\n",
              "      <td>Airlines</td>\n",
              "      <td>44.43</td>\n",
              "      <td>5635234816</td>\n",
              "      <td>1.073000e+09</td>\n",
              "      <td>0.448</td>\n",
              "      <td>Seattle</td>\n",
              "      <td>WA</td>\n",
              "      <td>United States</td>\n",
              "      <td>22354.0</td>\n",
              "      <td>Alaska Air Group, Inc., through its subsidiari...</td>\n",
              "      <td>0.000162</td>\n",
              "    </tr>\n",
              "    <tr>\n",
              "      <th>493</th>\n",
              "      <td>NYQ</td>\n",
              "      <td>VNO</td>\n",
              "      <td>Vornado Realty Trust</td>\n",
              "      <td>Vornado Realty Trust</td>\n",
              "      <td>Real Estate</td>\n",
              "      <td>REIT—Office</td>\n",
              "      <td>23.80</td>\n",
              "      <td>4562007552</td>\n",
              "      <td>8.103430e+08</td>\n",
              "      <td>0.163</td>\n",
              "      <td>New York</td>\n",
              "      <td>NY</td>\n",
              "      <td>United States</td>\n",
              "      <td>3224.0</td>\n",
              "      <td>Vornado's portfolio is concentrated in the nat...</td>\n",
              "      <td>0.000131</td>\n",
              "    </tr>\n",
              "  </tbody>\n",
              "</table>\n",
              "<p>494 rows × 16 columns</p>\n",
              "</div>\n",
              "    <div class=\"colab-df-buttons\">\n",
              "\n",
              "  <div class=\"colab-df-container\">\n",
              "    <button class=\"colab-df-convert\" onclick=\"convertToInteractive('df-020b87f1-14d0-4a34-9af4-ba4f03d08dc0')\"\n",
              "            title=\"Convert this dataframe to an interactive table.\"\n",
              "            style=\"display:none;\">\n",
              "\n",
              "  <svg xmlns=\"http://www.w3.org/2000/svg\" height=\"24px\" viewBox=\"0 -960 960 960\">\n",
              "    <path d=\"M120-120v-720h720v720H120Zm60-500h600v-160H180v160Zm220 220h160v-160H400v160Zm0 220h160v-160H400v160ZM180-400h160v-160H180v160Zm440 0h160v-160H620v160ZM180-180h160v-160H180v160Zm440 0h160v-160H620v160Z\"/>\n",
              "  </svg>\n",
              "    </button>\n",
              "\n",
              "  <style>\n",
              "    .colab-df-container {\n",
              "      display:flex;\n",
              "      gap: 12px;\n",
              "    }\n",
              "\n",
              "    .colab-df-convert {\n",
              "      background-color: #E8F0FE;\n",
              "      border: none;\n",
              "      border-radius: 50%;\n",
              "      cursor: pointer;\n",
              "      display: none;\n",
              "      fill: #1967D2;\n",
              "      height: 32px;\n",
              "      padding: 0 0 0 0;\n",
              "      width: 32px;\n",
              "    }\n",
              "\n",
              "    .colab-df-convert:hover {\n",
              "      background-color: #E2EBFA;\n",
              "      box-shadow: 0px 1px 2px rgba(60, 64, 67, 0.3), 0px 1px 3px 1px rgba(60, 64, 67, 0.15);\n",
              "      fill: #174EA6;\n",
              "    }\n",
              "\n",
              "    .colab-df-buttons div {\n",
              "      margin-bottom: 4px;\n",
              "    }\n",
              "\n",
              "    [theme=dark] .colab-df-convert {\n",
              "      background-color: #3B4455;\n",
              "      fill: #D2E3FC;\n",
              "    }\n",
              "\n",
              "    [theme=dark] .colab-df-convert:hover {\n",
              "      background-color: #434B5C;\n",
              "      box-shadow: 0px 1px 3px 1px rgba(0, 0, 0, 0.15);\n",
              "      filter: drop-shadow(0px 1px 2px rgba(0, 0, 0, 0.3));\n",
              "      fill: #FFFFFF;\n",
              "    }\n",
              "  </style>\n",
              "\n",
              "    <script>\n",
              "      const buttonEl =\n",
              "        document.querySelector('#df-020b87f1-14d0-4a34-9af4-ba4f03d08dc0 button.colab-df-convert');\n",
              "      buttonEl.style.display =\n",
              "        google.colab.kernel.accessAllowed ? 'block' : 'none';\n",
              "\n",
              "      async function convertToInteractive(key) {\n",
              "        const element = document.querySelector('#df-020b87f1-14d0-4a34-9af4-ba4f03d08dc0');\n",
              "        const dataTable =\n",
              "          await google.colab.kernel.invokeFunction('convertToInteractive',\n",
              "                                                    [key], {});\n",
              "        if (!dataTable) return;\n",
              "\n",
              "        const docLinkHtml = 'Like what you see? Visit the ' +\n",
              "          '<a target=\"_blank\" href=https://colab.research.google.com/notebooks/data_table.ipynb>data table notebook</a>'\n",
              "          + ' to learn more about interactive tables.';\n",
              "        element.innerHTML = '';\n",
              "        dataTable['output_type'] = 'display_data';\n",
              "        await google.colab.output.renderOutput(dataTable, element);\n",
              "        const docLink = document.createElement('div');\n",
              "        docLink.innerHTML = docLinkHtml;\n",
              "        element.appendChild(docLink);\n",
              "      }\n",
              "    </script>\n",
              "  </div>\n",
              "\n",
              "\n",
              "<div id=\"df-dc30964f-e56b-4f37-8a65-6c7b1ec69726\">\n",
              "  <button class=\"colab-df-quickchart\" onclick=\"quickchart('df-dc30964f-e56b-4f37-8a65-6c7b1ec69726')\"\n",
              "            title=\"Suggest charts\"\n",
              "            style=\"display:none;\">\n",
              "\n",
              "<svg xmlns=\"http://www.w3.org/2000/svg\" height=\"24px\"viewBox=\"0 0 24 24\"\n",
              "     width=\"24px\">\n",
              "    <g>\n",
              "        <path d=\"M19 3H5c-1.1 0-2 .9-2 2v14c0 1.1.9 2 2 2h14c1.1 0 2-.9 2-2V5c0-1.1-.9-2-2-2zM9 17H7v-7h2v7zm4 0h-2V7h2v10zm4 0h-2v-4h2v4z\"/>\n",
              "    </g>\n",
              "</svg>\n",
              "  </button>\n",
              "\n",
              "<style>\n",
              "  .colab-df-quickchart {\n",
              "      --bg-color: #E8F0FE;\n",
              "      --fill-color: #1967D2;\n",
              "      --hover-bg-color: #E2EBFA;\n",
              "      --hover-fill-color: #174EA6;\n",
              "      --disabled-fill-color: #AAA;\n",
              "      --disabled-bg-color: #DDD;\n",
              "  }\n",
              "\n",
              "  [theme=dark] .colab-df-quickchart {\n",
              "      --bg-color: #3B4455;\n",
              "      --fill-color: #D2E3FC;\n",
              "      --hover-bg-color: #434B5C;\n",
              "      --hover-fill-color: #FFFFFF;\n",
              "      --disabled-bg-color: #3B4455;\n",
              "      --disabled-fill-color: #666;\n",
              "  }\n",
              "\n",
              "  .colab-df-quickchart {\n",
              "    background-color: var(--bg-color);\n",
              "    border: none;\n",
              "    border-radius: 50%;\n",
              "    cursor: pointer;\n",
              "    display: none;\n",
              "    fill: var(--fill-color);\n",
              "    height: 32px;\n",
              "    padding: 0;\n",
              "    width: 32px;\n",
              "  }\n",
              "\n",
              "  .colab-df-quickchart:hover {\n",
              "    background-color: var(--hover-bg-color);\n",
              "    box-shadow: 0 1px 2px rgba(60, 64, 67, 0.3), 0 1px 3px 1px rgba(60, 64, 67, 0.15);\n",
              "    fill: var(--button-hover-fill-color);\n",
              "  }\n",
              "\n",
              "  .colab-df-quickchart-complete:disabled,\n",
              "  .colab-df-quickchart-complete:disabled:hover {\n",
              "    background-color: var(--disabled-bg-color);\n",
              "    fill: var(--disabled-fill-color);\n",
              "    box-shadow: none;\n",
              "  }\n",
              "\n",
              "  .colab-df-spinner {\n",
              "    border: 2px solid var(--fill-color);\n",
              "    border-color: transparent;\n",
              "    border-bottom-color: var(--fill-color);\n",
              "    animation:\n",
              "      spin 1s steps(1) infinite;\n",
              "  }\n",
              "\n",
              "  @keyframes spin {\n",
              "    0% {\n",
              "      border-color: transparent;\n",
              "      border-bottom-color: var(--fill-color);\n",
              "      border-left-color: var(--fill-color);\n",
              "    }\n",
              "    20% {\n",
              "      border-color: transparent;\n",
              "      border-left-color: var(--fill-color);\n",
              "      border-top-color: var(--fill-color);\n",
              "    }\n",
              "    30% {\n",
              "      border-color: transparent;\n",
              "      border-left-color: var(--fill-color);\n",
              "      border-top-color: var(--fill-color);\n",
              "      border-right-color: var(--fill-color);\n",
              "    }\n",
              "    40% {\n",
              "      border-color: transparent;\n",
              "      border-right-color: var(--fill-color);\n",
              "      border-top-color: var(--fill-color);\n",
              "    }\n",
              "    60% {\n",
              "      border-color: transparent;\n",
              "      border-right-color: var(--fill-color);\n",
              "    }\n",
              "    80% {\n",
              "      border-color: transparent;\n",
              "      border-right-color: var(--fill-color);\n",
              "      border-bottom-color: var(--fill-color);\n",
              "    }\n",
              "    90% {\n",
              "      border-color: transparent;\n",
              "      border-bottom-color: var(--fill-color);\n",
              "    }\n",
              "  }\n",
              "</style>\n",
              "\n",
              "  <script>\n",
              "    async function quickchart(key) {\n",
              "      const quickchartButtonEl =\n",
              "        document.querySelector('#' + key + ' button');\n",
              "      quickchartButtonEl.disabled = true;  // To prevent multiple clicks.\n",
              "      quickchartButtonEl.classList.add('colab-df-spinner');\n",
              "      try {\n",
              "        const charts = await google.colab.kernel.invokeFunction(\n",
              "            'suggestCharts', [key], {});\n",
              "      } catch (error) {\n",
              "        console.error('Error during call to suggestCharts:', error);\n",
              "      }\n",
              "      quickchartButtonEl.classList.remove('colab-df-spinner');\n",
              "      quickchartButtonEl.classList.add('colab-df-quickchart-complete');\n",
              "    }\n",
              "    (() => {\n",
              "      let quickchartButtonEl =\n",
              "        document.querySelector('#df-dc30964f-e56b-4f37-8a65-6c7b1ec69726 button');\n",
              "      quickchartButtonEl.style.display =\n",
              "        google.colab.kernel.accessAllowed ? 'block' : 'none';\n",
              "    })();\n",
              "  </script>\n",
              "</div>\n",
              "\n",
              "  <div id=\"id_63e10744-25ae-4945-a127-e350dfdb4863\">\n",
              "    <style>\n",
              "      .colab-df-generate {\n",
              "        background-color: #E8F0FE;\n",
              "        border: none;\n",
              "        border-radius: 50%;\n",
              "        cursor: pointer;\n",
              "        display: none;\n",
              "        fill: #1967D2;\n",
              "        height: 32px;\n",
              "        padding: 0 0 0 0;\n",
              "        width: 32px;\n",
              "      }\n",
              "\n",
              "      .colab-df-generate:hover {\n",
              "        background-color: #E2EBFA;\n",
              "        box-shadow: 0px 1px 2px rgba(60, 64, 67, 0.3), 0px 1px 3px 1px rgba(60, 64, 67, 0.15);\n",
              "        fill: #174EA6;\n",
              "      }\n",
              "\n",
              "      [theme=dark] .colab-df-generate {\n",
              "        background-color: #3B4455;\n",
              "        fill: #D2E3FC;\n",
              "      }\n",
              "\n",
              "      [theme=dark] .colab-df-generate:hover {\n",
              "        background-color: #434B5C;\n",
              "        box-shadow: 0px 1px 3px 1px rgba(0, 0, 0, 0.15);\n",
              "        filter: drop-shadow(0px 1px 2px rgba(0, 0, 0, 0.3));\n",
              "        fill: #FFFFFF;\n",
              "      }\n",
              "    </style>\n",
              "    <button class=\"colab-df-generate\" onclick=\"generateWithVariable('data')\"\n",
              "            title=\"Generate code using this dataframe.\"\n",
              "            style=\"display:none;\">\n",
              "\n",
              "  <svg xmlns=\"http://www.w3.org/2000/svg\" height=\"24px\"viewBox=\"0 0 24 24\"\n",
              "       width=\"24px\">\n",
              "    <path d=\"M7,19H8.4L18.45,9,17,7.55,7,17.6ZM5,21V16.75L18.45,3.32a2,2,0,0,1,2.83,0l1.4,1.43a1.91,1.91,0,0,1,.58,1.4,1.91,1.91,0,0,1-.58,1.4L9.25,21ZM18.45,9,17,7.55Zm-12,3A5.31,5.31,0,0,0,4.9,8.1,5.31,5.31,0,0,0,1,6.5,5.31,5.31,0,0,0,4.9,4.9,5.31,5.31,0,0,0,6.5,1,5.31,5.31,0,0,0,8.1,4.9,5.31,5.31,0,0,0,12,6.5,5.46,5.46,0,0,0,6.5,12Z\"/>\n",
              "  </svg>\n",
              "    </button>\n",
              "    <script>\n",
              "      (() => {\n",
              "      const buttonEl =\n",
              "        document.querySelector('#id_63e10744-25ae-4945-a127-e350dfdb4863 button.colab-df-generate');\n",
              "      buttonEl.style.display =\n",
              "        google.colab.kernel.accessAllowed ? 'block' : 'none';\n",
              "\n",
              "      buttonEl.onclick = () => {\n",
              "        google.colab.notebook.generateWithVariable('data');\n",
              "      }\n",
              "      })();\n",
              "    </script>\n",
              "  </div>\n",
              "\n",
              "    </div>\n",
              "  </div>\n"
            ],
            "application/vnd.google.colaboratory.intrinsic+json": {
              "type": "dataframe",
              "variable_name": "data",
              "summary": "{\n  \"name\": \"data\",\n  \"rows\": 494,\n  \"fields\": [\n    {\n      \"column\": \"Exchange\",\n      \"properties\": {\n        \"dtype\": \"category\",\n        \"num_unique_values\": 4,\n        \"samples\": [\n          \"NYQ\",\n          \"BTS\",\n          \"NMS\"\n        ],\n        \"semantic_type\": \"\",\n        \"description\": \"\"\n      }\n    },\n    {\n      \"column\": \"Symbol\",\n      \"properties\": {\n        \"dtype\": \"string\",\n        \"num_unique_values\": 494,\n        \"samples\": [\n          \"SBNY\",\n          \"GILD\",\n          \"MOH\"\n        ],\n        \"semantic_type\": \"\",\n        \"description\": \"\"\n      }\n    },\n    {\n      \"column\": \"Shortname\",\n      \"properties\": {\n        \"dtype\": \"string\",\n        \"num_unique_values\": 491,\n        \"samples\": [\n          \"Signature Bank\",\n          \"Prologis, Inc.\",\n          \"NRG Energy, Inc.\"\n        ],\n        \"semantic_type\": \"\",\n        \"description\": \"\"\n      }\n    },\n    {\n      \"column\": \"Longname\",\n      \"properties\": {\n        \"dtype\": \"string\",\n        \"num_unique_values\": 491,\n        \"samples\": [\n          \"Signature Bank\",\n          \"Prologis, Inc.\",\n          \"NRG Energy, Inc.\"\n        ],\n        \"semantic_type\": \"\",\n        \"description\": \"\"\n      }\n    },\n    {\n      \"column\": \"Sector\",\n      \"properties\": {\n        \"dtype\": \"category\",\n        \"num_unique_values\": 11,\n        \"samples\": [\n          \"Energy\",\n          \"Technology\",\n          \"Industrials\"\n        ],\n        \"semantic_type\": \"\",\n        \"description\": \"\"\n      }\n    },\n    {\n      \"column\": \"Industry\",\n      \"properties\": {\n        \"dtype\": \"category\",\n        \"num_unique_values\": 113,\n        \"samples\": [\n          \"Pharmaceutical Retailers\",\n          \"Insurance\\u2014Diversified\",\n          \"Apparel Retail\"\n        ],\n        \"semantic_type\": \"\",\n        \"description\": \"\"\n      }\n    },\n    {\n      \"column\": \"Currentprice\",\n      \"properties\": {\n        \"dtype\": \"number\",\n        \"std\": 270.29801989642783,\n        \"min\": 7.34,\n        \"max\": 4275.36,\n        \"num_unique_values\": 491,\n        \"samples\": [\n          158.7,\n          420.4,\n          214.47\n        ],\n        \"semantic_type\": \"\",\n        \"description\": \"\"\n      }\n    },\n    {\n      \"column\": \"Marketcap\",\n      \"properties\": {\n        \"dtype\": \"number\",\n        \"std\": 177233345389,\n        \"min\": 4562007552,\n        \"max\": 2502866501632,\n        \"num_unique_values\": 494,\n        \"samples\": [\n          9622362112,\n          99434700800,\n          20702799872\n        ],\n        \"semantic_type\": \"\",\n        \"description\": \"\"\n      }\n    },\n    {\n      \"column\": \"Ebitda\",\n      \"properties\": {\n        \"dtype\": \"number\",\n        \"std\": 12107381095.839495,\n        \"min\": -2680999936.0,\n        \"max\": 130541002752.0,\n        \"num_unique_values\": 458,\n        \"samples\": [\n          994014016.0,\n          11246999552.0,\n          2148800000.0\n        ],\n        \"semantic_type\": \"\",\n        \"description\": \"\"\n      }\n    },\n    {\n      \"column\": \"Revenuegrowth\",\n      \"properties\": {\n        \"dtype\": \"number\",\n        \"std\": 7.771664202339125,\n        \"min\": -0.643,\n        \"max\": 167.368,\n        \"num_unique_values\": 324,\n        \"samples\": [\n          -0.114,\n          0.012,\n          0.167\n        ],\n        \"semantic_type\": \"\",\n        \"description\": \"\"\n      }\n    },\n    {\n      \"column\": \"City\",\n      \"properties\": {\n        \"dtype\": \"category\",\n        \"num_unique_values\": 231,\n        \"samples\": [\n          \"King of Prussia\",\n          \"Pittsburgh\",\n          \"New York\"\n        ],\n        \"semantic_type\": \"\",\n        \"description\": \"\"\n      }\n    },\n    {\n      \"column\": \"State\",\n      \"properties\": {\n        \"dtype\": \"category\",\n        \"num_unique_values\": 38,\n        \"samples\": [\n          \"NV\",\n          \"AL\",\n          \"TX\"\n        ],\n        \"semantic_type\": \"\",\n        \"description\": \"\"\n      }\n    },\n    {\n      \"column\": \"Country\",\n      \"properties\": {\n        \"dtype\": \"category\",\n        \"num_unique_values\": 7,\n        \"samples\": [\n          \"United States\",\n          \"Ireland\",\n          \"Bermuda\"\n        ],\n        \"semantic_type\": \"\",\n        \"description\": \"\"\n      }\n    },\n    {\n      \"column\": \"Fulltimeemployees\",\n      \"properties\": {\n        \"dtype\": \"number\",\n        \"std\": 145585.79749178787,\n        \"min\": 105.0,\n        \"max\": 2300000.0,\n        \"num_unique_values\": 395,\n        \"samples\": [\n          168000.0,\n          1854.0,\n          105000.0\n        ],\n        \"semantic_type\": \"\",\n        \"description\": \"\"\n      }\n    },\n    {\n      \"column\": \"Longbusinesssummary\",\n      \"properties\": {\n        \"dtype\": \"string\",\n        \"num_unique_values\": 491,\n        \"samples\": [\n          \"Signature Bank provides commercial banking products and services. It accepts various deposit products, including checking accounts, money market accounts, escrow deposit accounts, cash concentration accounts, certificates of deposit, and other cash management products. The company provides various lending products comprising commercial and industrial loans, real estate loans, and letters of credit. In addition, it offers asset management and investment products; and retirement products, such as individual retirement accounts and administrative services for retirement vehicles. Further, the company provides wealth management services to its high net worth personal clients; and purchases, sells, and assembles small business administration loans and pools. Additionally, it offers individual and group insurance products, including health, life, disability, and long-term care insurance products for business and private clients. As of December 31, 2021, the company operated 37 private client offices located in the metropolitan New York area, Connecticut, California, and North Carolina. Signature Bank was incorporated in 2000 and is headquartered in New York, New York.\",\n          \"Prologis, Inc. is the global leader in logistics real estate with a focus on high-barrier, high-growth markets. As of December 31, 2020, the company owned or had investments in, on a wholly owned basis or through co-investment ventures, properties and development projects expected to total approximately 984 million square feet (91 million square meters) in 19 countries. Prologis leases modern logistics facilities to a diverse base of approximately 5,500 customers principally across two major categories: business-to-business and retail/online fulfillment.\",\n          \"NRG Energy, Inc., together with its subsidiaries, operates as an integrated power company in the United States. It operates through Texas, East, and West. The company is involved in the producing, selling, and delivering electricity and related products and services to approximately 6 million residential, commercial, industrial, and wholesale customers. It generates electricity using natural gas, coal, oil, solar, nuclear, and battery storage. The company also provides system power, distributed generation, renewable products, backup generation, storage and distributed solar, demand response, and energy efficiency, and advisory services, as well as carbon management and specialty services; and on-site energy solutions. In addition, it trades in electric power, natural gas, and related commodities; environmental products; weather products; and financial products, including forwards, futures, options, and swaps. Further, the company procures fuels; provides transportation services; and directly sells energy, services, and products and services to retail customers under the NRG, Reliant, Direct Energy, Green Mountain Energy, Stream, and XOOM Energy. As of December 31, 2021, it owns and leases power generation portfolio with approximately 18,000 megawatts of capacity at 25 plants. NRG Energy, Inc. was founded in 1989 and is headquartered in Houston, Texas.\"\n        ],\n        \"semantic_type\": \"\",\n        \"description\": \"\"\n      }\n    },\n    {\n      \"column\": \"Weight\",\n      \"properties\": {\n        \"dtype\": \"number\",\n        \"std\": 0.005106733441916772,\n        \"min\": 0.0001314479308446,\n        \"max\": 0.0721166326600582,\n        \"num_unique_values\": 494,\n        \"samples\": [\n          0.0002772550406906,\n          0.0028650732216762,\n          0.0005965225122595\n        ],\n        \"semantic_type\": \"\",\n        \"description\": \"\"\n      }\n    }\n  ]\n}"
            }
          },
          "metadata": {},
          "execution_count": 28
        }
      ]
    },
    {
      "cell_type": "markdown",
      "source": [
        "3. Categorize Companies by Market Capitalization\n",
        "\n",
        "\n",
        "---\n",
        "\n"
      ],
      "metadata": {
        "id": "lJTPhM_9wD87"
      }
    },
    {
      "cell_type": "code",
      "source": [
        "def categorize_company(market_cap):\n",
        "    if market_cap > 10_000_000_000:  # Large-Cap (over $10B)\n",
        "        return \"Large-Cap\"\n",
        "    elif 2_000_000_000 <= market_cap <= 10_000_000_000:  # Mid-Cap ($2B to $10B)\n",
        "        return \"Mid-Cap\"\n",
        "    else:\n",
        "        return None  # Exclude companies below $2B\n",
        "\n",
        "data['Category'] = data['Marketcap'].apply(categorize_company)\n",
        "data['Category']"
      ],
      "metadata": {
        "id": "Bfm5rqNawBle",
        "colab": {
          "base_uri": "https://localhost:8080/",
          "height": 458
        },
        "outputId": "2b16b42c-5279-4021-857a-1bafdc6bf4ef"
      },
      "execution_count": null,
      "outputs": [
        {
          "output_type": "execute_result",
          "data": {
            "text/plain": [
              "0      Large-Cap\n",
              "1      Large-Cap\n",
              "2      Large-Cap\n",
              "3      Large-Cap\n",
              "4      Large-Cap\n",
              "         ...    \n",
              "489      Mid-Cap\n",
              "490      Mid-Cap\n",
              "491      Mid-Cap\n",
              "492      Mid-Cap\n",
              "493      Mid-Cap\n",
              "Name: Category, Length: 494, dtype: object"
            ],
            "text/html": [
              "<div>\n",
              "<style scoped>\n",
              "    .dataframe tbody tr th:only-of-type {\n",
              "        vertical-align: middle;\n",
              "    }\n",
              "\n",
              "    .dataframe tbody tr th {\n",
              "        vertical-align: top;\n",
              "    }\n",
              "\n",
              "    .dataframe thead th {\n",
              "        text-align: right;\n",
              "    }\n",
              "</style>\n",
              "<table border=\"1\" class=\"dataframe\">\n",
              "  <thead>\n",
              "    <tr style=\"text-align: right;\">\n",
              "      <th></th>\n",
              "      <th>Category</th>\n",
              "    </tr>\n",
              "  </thead>\n",
              "  <tbody>\n",
              "    <tr>\n",
              "      <th>0</th>\n",
              "      <td>Large-Cap</td>\n",
              "    </tr>\n",
              "    <tr>\n",
              "      <th>1</th>\n",
              "      <td>Large-Cap</td>\n",
              "    </tr>\n",
              "    <tr>\n",
              "      <th>2</th>\n",
              "      <td>Large-Cap</td>\n",
              "    </tr>\n",
              "    <tr>\n",
              "      <th>3</th>\n",
              "      <td>Large-Cap</td>\n",
              "    </tr>\n",
              "    <tr>\n",
              "      <th>4</th>\n",
              "      <td>Large-Cap</td>\n",
              "    </tr>\n",
              "    <tr>\n",
              "      <th>...</th>\n",
              "      <td>...</td>\n",
              "    </tr>\n",
              "    <tr>\n",
              "      <th>489</th>\n",
              "      <td>Mid-Cap</td>\n",
              "    </tr>\n",
              "    <tr>\n",
              "      <th>490</th>\n",
              "      <td>Mid-Cap</td>\n",
              "    </tr>\n",
              "    <tr>\n",
              "      <th>491</th>\n",
              "      <td>Mid-Cap</td>\n",
              "    </tr>\n",
              "    <tr>\n",
              "      <th>492</th>\n",
              "      <td>Mid-Cap</td>\n",
              "    </tr>\n",
              "    <tr>\n",
              "      <th>493</th>\n",
              "      <td>Mid-Cap</td>\n",
              "    </tr>\n",
              "  </tbody>\n",
              "</table>\n",
              "<p>494 rows × 1 columns</p>\n",
              "</div><br><label><b>dtype:</b> object</label>"
            ]
          },
          "metadata": {},
          "execution_count": 29
        }
      ]
    },
    {
      "cell_type": "markdown",
      "source": [
        "4. Filter Valid Data"
      ],
      "metadata": {
        "id": "h0D0S1YqwMc3"
      }
    },
    {
      "cell_type": "code",
      "source": [
        "filtered_data = data.dropna(subset=['Category', 'Weight'])\n"
      ],
      "metadata": {
        "id": "yYtwDQRQwHQr"
      },
      "execution_count": null,
      "outputs": []
    },
    {
      "cell_type": "markdown",
      "source": [
        "5. Separate Data into Groups"
      ],
      "metadata": {
        "id": "JZEySB_BwTQm"
      }
    },
    {
      "cell_type": "code",
      "source": [
        "large_cap = filtered_data[filtered_data['Category'] == \"Large-Cap\"]['Weight']\n",
        "mid_cap = filtered_data[filtered_data['Category'] == \"Mid-Cap\"]['Weight']\n"
      ],
      "metadata": {
        "id": "c1gJbMcuwQ4p"
      },
      "execution_count": null,
      "outputs": []
    },
    {
      "cell_type": "markdown",
      "source": [
        "6. Calculate Volatility (Standard Deviation)"
      ],
      "metadata": {
        "id": "Jams5yKewXhS"
      }
    },
    {
      "cell_type": "code",
      "source": [
        "large_cap_volatility = np.std(large_cap)\n",
        "mid_cap_volatility = np.std(mid_cap)\n"
      ],
      "metadata": {
        "id": "O4r6BkXnwVKn"
      },
      "execution_count": null,
      "outputs": []
    },
    {
      "cell_type": "markdown",
      "source": [
        "7. Z-Test for Hypothesis Testing"
      ],
      "metadata": {
        "id": "OQx5CZbOwcBi"
      }
    },
    {
      "cell_type": "code",
      "source": [
        "# Calculate means and standard deviations\n",
        "mean_large = np.mean(large_cap)\n",
        "mean_mid = np.mean(mid_cap)\n",
        "\n",
        "std_large = np.std(large_cap, ddof=1)\n",
        "std_mid = np.std(mid_cap, ddof=1)\n",
        "\n",
        "# Number of samples\n",
        "n_large = len(large_cap)\n",
        "n_mid = len(mid_cap)\n",
        "\n",
        "# Z-test calculation\n",
        "z_score = (mean_large - mean_mid) / np.sqrt((std_large**2 / n_large) + (std_mid**2 / n_mid))\n"
      ],
      "metadata": {
        "id": "nOXkYVxuwZwS"
      },
      "execution_count": null,
      "outputs": []
    },
    {
      "cell_type": "markdown",
      "source": [
        "8. Setting the Hypothesis"
      ],
      "metadata": {
        "id": "3mIC2T1Uwhq5"
      }
    },
    {
      "cell_type": "code",
      "source": [
        "alpha = 0.05  # Significance level (5%)\n",
        "\n",
        "# Null Hypothesis: No difference in volatility between groups\n",
        "# Alternative Hypothesis: Significant difference in volatility\n",
        "\n",
        "if abs(z_score) > 1.96:  # Z critical value for 95% confidence\n",
        "    print(\"Reject the Null Hypothesis: Significant difference in volatility.\")\n",
        "else:\n",
        "    print(\"Fail to Reject the Null Hypothesis: No significant difference in volatility.\")\n"
      ],
      "metadata": {
        "colab": {
          "base_uri": "https://localhost:8080/"
        },
        "id": "-UsTZordweHi",
        "outputId": "1fe9d640-8cec-4399-8c54-63d5e6ff6a84"
      },
      "execution_count": null,
      "outputs": [
        {
          "output_type": "stream",
          "name": "stdout",
          "text": [
            "Reject the Null Hypothesis: Significant difference in volatility.\n"
          ]
        }
      ]
    },
    {
      "cell_type": "markdown",
      "source": [
        "9. Visualizing the Results"
      ],
      "metadata": {
        "id": "4NfcpfZ4wmz6"
      }
    },
    {
      "cell_type": "code",
      "source": [
        "plt.figure(figsize=(10, 6))\n",
        "plt.hist([large_cap, mid_cap], bins=15, color=['blue', 'orange'], edgecolor='black', label=['Large-Cap', 'Mid-Cap'])\n",
        "plt.title('Volatility Distribution: Large-Cap vs. Mid-Cap', fontsize=16)\n",
        "plt.xlabel('Volatility (Weight)', fontsize=14)\n",
        "plt.ylabel('Frequency', fontsize=14)\n",
        "plt.legend()\n",
        "plt.grid(alpha=0.4)\n",
        "plt.show()\n"
      ],
      "metadata": {
        "colab": {
          "base_uri": "https://localhost:8080/",
          "height": 571
        },
        "id": "lRDHZch7gnMe",
        "outputId": "1fbafe85-12a8-45be-c05f-23d86f0b24a7"
      },
      "execution_count": null,
      "outputs": [
        {
          "output_type": "display_data",
          "data": {
            "text/plain": [
              "<Figure size 1000x600 with 1 Axes>"
            ],
            "image/png": "[encoded data removed]"
          },
          "metadata": {}
        }
      ]
    },
    {
      "cell_type": "markdown",
      "source": [
        "10. Complete Output"
      ],
      "metadata": {
        "id": "R_yNFoIuw7Yq"
      }
    },
    {
      "cell_type": "code",
      "source": [
        "print(f\"Mean Volatility - Large-Cap: {mean_large:.2f}\")\n",
        "print(f\"Mean Volatility - Mid-Cap: {mean_mid:.2f}\")\n",
        "print(f\"Z-Score: {z_score:.2f}\")\n"
      ],
      "metadata": {
        "colab": {
          "base_uri": "https://localhost:8080/"
        },
        "id": "oftuuOoUwugw",
        "outputId": "9c3d2cd3-cbae-4cc2-83ba-991e16addc2e"
      },
      "execution_count": null,
      "outputs": [
        {
          "output_type": "stream",
          "name": "stdout",
          "text": [
            "Mean Volatility - Large-Cap: 0.00\n",
            "Mean Volatility - Mid-Cap: 0.00\n",
            "Z-Score: 7.85\n"
          ]
        }
      ]
    },
    {
      "cell_type": "markdown",
      "source": [
        "**RESULT:**\n",
        "\n",
        "The hypothesis test reveals a significant difference in volatility between large-cap and mid-cap stocks. So the Null Hypothesis is rejected.\n",
        "\n"
      ],
      "metadata": {
        "id": "Ql_BbTjWKGVM"
      }
    },
    {
      "cell_type": "markdown",
      "source": [
        "**TOPIC 2 FOR ANALYSIS - Normal Distribution Standardization**"
      ],
      "metadata": {
        "id": "-o85l1pr6LeD"
      }
    },
    {
      "cell_type": "markdown",
      "source": [
        "To reveal trends and uncover patterns, we standardized the financial indicators using Z-scores, which scales the data to have a mean of 0 and a standard deviation of 1. This standardization enables easier comparison of companies across sectors, as all indicators are now on the same scale. We used histograms to visualize the distribution of these standardized values, helping identify trends, outliers, and the overall spread of the data. The correlation matrix allowed us to analyze the relationships between different indicators, showing how they are related to each other. This approach makes it easier to detect patterns and compare companies by removing the influence of varying scales in the raw data, ultimately revealing hidden insights across sectors."
      ],
      "metadata": {
        "id": "qKKhM6GzGlTO"
      }
    },
    {
      "cell_type": "markdown",
      "source": [
        "**Question 2**\n",
        "\n",
        "How does standardizing financial indicators to a normal distribution reveal underlying trends?.\n"
      ],
      "metadata": {
        "id": "GAgD1NkjEag1"
      }
    },
    {
      "cell_type": "markdown",
      "source": [
        "1. Import Required Libraries"
      ],
      "metadata": {
        "id": "qqUd21E8AMMN"
      }
    },
    {
      "cell_type": "code",
      "source": [
        "import pandas as pd\n",
        "import numpy as np\n",
        "import matplotlib.pyplot as plt\n"
      ],
      "metadata": {
        "id": "GbEGO2Opw941"
      },
      "execution_count": null,
      "outputs": []
    },
    {
      "cell_type": "markdown",
      "source": [
        "2. Load the Dataset"
      ],
      "metadata": {
        "id": "gNM3rm2qAOjR"
      }
    },
    {
      "cell_type": "code",
      "source": [
        "url = \"https://raw.githubusercontent.com/csbfx/cs22a/main/sp500_companies.csv\"\n",
        "data = pd.read_csv(url)\n"
      ],
      "metadata": {
        "id": "7E7Zeuz1AJN3"
      },
      "execution_count": null,
      "outputs": []
    },
    {
      "cell_type": "markdown",
      "source": [
        "3. Select Relevant Indicators for Standardization"
      ],
      "metadata": {
        "id": "hUWUHUoUAS6l"
      }
    },
    {
      "cell_type": "code",
      "source": [
        "indicators = ['Currentprice', 'Marketcap', 'Ebitda', 'Revenuegrowth', 'Weight']\n",
        "selected_data = data[indicators].dropna()\n"
      ],
      "metadata": {
        "id": "1MROoRX7AQOf"
      },
      "execution_count": null,
      "outputs": []
    },
    {
      "cell_type": "markdown",
      "source": [
        "4. Apply Z-Score Standardization"
      ],
      "metadata": {
        "id": "yB6nxcP6AWx-"
      }
    },
    {
      "cell_type": "code",
      "source": [
        "def z_score(column):\n",
        "    return (column - column.mean()) / column.std()\n",
        "\n",
        "standardized_data = selected_data.apply(z_score)\n"
      ],
      "metadata": {
        "id": "llTiGeDkAUhU"
      },
      "execution_count": null,
      "outputs": []
    },
    {
      "cell_type": "markdown",
      "source": [
        "5. Visualize Standardized Data with Histograms"
      ],
      "metadata": {
        "id": "oOvQGPtTAavm"
      }
    },
    {
      "cell_type": "code",
      "source": [
        "plt.figure(figsize=(15, 10))\n",
        "for i, col in enumerate(standardized_data.columns, 1):\n",
        "    plt.subplot(3, 2, i)\n",
        "    plt.hist(standardized_data[col], bins=20, alpha=0.7, color='skyblue', edgecolor='black')\n",
        "    plt.title(f'Histogram of {col} (Standardized)', fontsize=12)\n",
        "    plt.xlabel('Z-Score', fontsize=10)\n",
        "    plt.ylabel('Frequency', fontsize=10)\n",
        "    plt.grid(alpha=0.4)\n",
        "\n",
        "plt.tight_layout()\n",
        "plt.show()\n"
      ],
      "metadata": {
        "colab": {
          "base_uri": "https://localhost:8080/",
          "height": 785
        },
        "id": "lhNBuHVFAYtr",
        "outputId": "7b680f7e-d894-4cdc-8a40-3a5562dee208"
      },
      "execution_count": null,
      "outputs": [
        {
          "output_type": "display_data",
          "data": {
            "text/plain": [
              "<Figure size 1500x1000 with 5 Axes>"
            ],
            "image/png": "[encoded data removed]"
          },
          "metadata": {}
        }
      ]
    },
    {
      "cell_type": "markdown",
      "source": [
        "6. Analyze Relationships with Correlation Matrix"
      ],
      "metadata": {
        "id": "6d7lPNy8Aggw"
      }
    },
    {
      "cell_type": "code",
      "source": [
        "correlation_matrix = standardized_data.corr()\n",
        "\n",
        "plt.figure(figsize=(8, 6))\n",
        "plt.imshow(correlation_matrix, cmap='coolwarm', interpolation='none')\n",
        "plt.colorbar(label='Correlation Coefficient')\n",
        "plt.xticks(range(len(correlation_matrix.columns)), correlation_matrix.columns, rotation=45, fontsize=10)\n",
        "plt.yticks(range(len(correlation_matrix.columns)), correlation_matrix.columns, fontsize=10)\n",
        "plt.title('Correlation Matrix of Standardized Indicators', fontsize=14)\n",
        "plt.show()\n"
      ],
      "metadata": {
        "colab": {
          "base_uri": "https://localhost:8080/",
          "height": 618
        },
        "id": "qnA0WUeEAcYr",
        "outputId": "46bf6449-8089-4184-e13a-90f5b57cb8e5"
      },
      "execution_count": null,
      "outputs": [
        {
          "output_type": "display_data",
          "data": {
            "text/plain": [
              "<Figure size 800x600 with 2 Axes>"
            ],
            "image/png": "[encoded data removed]"
          },
          "metadata": {}
        }
      ]
    },
    {
      "cell_type": "markdown",
      "source": [
        "**RESULT:**\n",
        "\n",
        "**1. Strong Positive Correlations:**\n",
        "\n",
        "**Market Cap and Current Price**: This strong positive correlation is expected, as larger market capitalization typically corresponds to higher stock prices.\n",
        "\n",
        "**EBITDA and Revenue Growth**: A positive correlation indicates that companies with higher revenue growth tend to have better earnings before interest, taxes, depreciation, and amortization.\n",
        "\n",
        "**2. Moderate Positive Correlations:**\n",
        "\n",
        "**Market Cap and EBITDA**: Larger companies often have higher EBITDA due to economies of scale and stronger market positions.\n",
        "**Current Price and Revenue Growth**: While not as strong as the previous relationships, there is a moderate positive correlation, suggesting that investors may value companies with higher revenue growth.\n",
        "\n",
        "**3. Weak or No Correlation:**\n",
        "\n",
        "**Weight and Other Variables**: The weight variable (likely representing portfolio weights or similar) doesn't seem to have strong correlations with the other variables. This suggests that the weight allocation isn't directly influenced by these financial metrics.\n",
        "\n",
        "Overall, the correlation matrix reveals that the variables are interconnected, with market capitalization and current price being the most strongly correlated. This information can be useful for various financial analyses, such as portfolio construction, risk management, and investment decision-making.\n",
        "\n",
        "However, it's important to remember that correlation does not imply causation. While these variables are related, other factors may also influence their movements."
      ],
      "metadata": {
        "id": "48c_TDXPD_Rp"
      }
    },
    {
      "cell_type": "markdown",
      "source": [
        "# **Conclusions and Insights**\n",
        "### **Key Insights**\n",
        "\n",
        "**Volatility Analysis:**\n",
        "\n",
        "**Finding**: Mid-cap stocks exhibit significantly higher volatility than large-cap stocks.\n",
        "Insight: Investors looking for stability may prefer large-cap stocks, whereas those seeking higher returns with greater risk might explore mid-cap stocks.\n",
        "Trend Analysis via Standardization:\n",
        "\n",
        "**Finding**: Strong correlations were observed between:\n",
        "Market cap and stock prices: Larger market caps typically have higher stock prices.\n",
        "EBITDA and revenue growth: Companies with higher revenue growth tend to demonstrate better earnings potential.  \n",
        "**Insight**: This information is critical for identifying growth opportunities and assessing company performance across sectors.\n",
        "Sector and Company Comparisons:\n",
        "\n",
        "Standardizing financial indicators revealed hidden patterns and outliers, offering a clearer understanding of sector-wide trends and individual company behaviors.\n",
        "\n",
        "**Portfolio Strategy:**\n",
        "\n",
        "Diversification across both large-cap and mid-cap stocks can balance stability and potential returns.\n",
        "Understanding the volatility and performance metrics aids in tailoring risk-adjusted investment strategies.  \n",
        "  \n",
        "  \n",
        "**Future Directions**\n",
        "\n",
        "**Enhanced Data Sources:**\n",
        "\n",
        "Utilize additional datasets, such as real-time stock data, to improve accuracy and depth.\n",
        "Include other financial indicators like debt ratios, dividend yields, or economic factors for more comprehensive analyses.\n",
        "Advanced Statistical\n",
        "\n",
        "**Techniques:**\n",
        "\n",
        "Incorporate machine learning models to predict trends and assess risks more dynamically.\n",
        "Expand beyond Z-tests to include ANOVA or regression analysis for deeper insights into multi-variable relationships.\n",
        "\n",
        "**Sector-Specific Analyses:**\n",
        "\n",
        "Analyze specific industries within the S&P 500 to uncover unique sectoral behaviors.\n",
        "Compare market performance during varying economic conditions (e.g., recession vs. growth phases).\n",
        "Areas for Improvement\n",
        "\n",
        "**Data Cleaning and Preprocessing:**\n",
        "\n",
        "Automate the cleaning process to handle missing values and outliers efficiently.\n",
        "Improve consistency across datasets to ensure uniformity.\n",
        "\n",
        "**Visualization Techniques:**\n",
        "\n",
        "Develop more intuitive visualizations to highlight trends and patterns without obscuring key details.\n",
        "Utilize interactive dashboards for real-time data exploration.\n",
        "\n",
        "**Sample Expansion:**\n",
        "\n",
        "Increase the number of stocks analyzed by including small-cap or global markets for a broader perspective.\n",
        "Consider longitudinal studies to track changes over time.\n"
      ],
      "metadata": {
        "id": "sk3H6mntFIXs"
      }
    }
  ]
}